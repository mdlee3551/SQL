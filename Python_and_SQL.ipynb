{
  "nbformat": 4,
  "nbformat_minor": 0,
  "metadata": {
    "colab": {
      "provenance": []
    },
    "kernelspec": {
      "name": "python3",
      "display_name": "Python 3"
    },
    "language_info": {
      "name": "python"
    }
  },
  "cells": [
    {
      "cell_type": "markdown",
      "source": [
        "#How to Connect Python to SQL Server\n",
        "###Here we will learn how Python can interact as a user of an SQL database using SQlite"
      ],
      "metadata": {
        "id": "i1JH7aBhoOj1"
      }
    },
    {
      "cell_type": "markdown",
      "source": [
        "https://python-course.eu/applications-python/sql-python.php\n"
      ],
      "metadata": {
        "id": "e05tzGJcbk3D"
      }
    },
    {
      "cell_type": "code",
      "source": [
        "import sqlite3"
      ],
      "metadata": {
        "id": "IIAdBzQ7aJhC"
      },
      "execution_count": 10,
      "outputs": []
    },
    {
      "cell_type": "code",
      "source": [
        "# Connect to a database (or create it if it doesn't exist)\n",
        "connection = sqlite3.connect(\"company.db\")"
      ],
      "metadata": {
        "id": "3NqueKdMaa9X"
      },
      "execution_count": 11,
      "outputs": []
    },
    {
      "cell_type": "code",
      "source": [
        "#To be capable to send a command to \"SQL\", or SQLite, we need a cursor object.\n",
        "cursor = connection.cursor()"
      ],
      "metadata": {
        "id": "tSy2bSKT8PaL"
      },
      "execution_count": 12,
      "outputs": []
    },
    {
      "cell_type": "code",
      "source": [
        "sql_command = \"\"\"\n",
        "CREATE TABLE employee (\n",
        "staff_number INTEGER PRIMARY KEY,\n",
        "fname VARCHAR(20),\n",
        "lname VARCHAR(30),\n",
        "gender CHAR(1),\n",
        "joining DATE,\n",
        "birth_date DATE);\"\"\""
      ],
      "metadata": {
        "id": "tAgqDp5Yaf_B"
      },
      "execution_count": 13,
      "outputs": []
    },
    {
      "cell_type": "code",
      "source": [
        "cursor.execute(sql_command)"
      ],
      "metadata": {
        "id": "OTW9nXQNiRSZ"
      },
      "execution_count": null,
      "outputs": []
    },
    {
      "cell_type": "code",
      "source": [
        "sql_command = \"\"\"INSERT INTO employee (staff_number, fname, lname, gender, birth_date)\n",
        "    VALUES (NULL, \"William\", \"Shakespeare\", \"m\", \"1961-10-25\");\"\"\"\n",
        "cursor.execute(sql_command)\n",
        "\n",
        "\n",
        "sql_command = \"\"\"INSERT INTO employee (staff_number, fname, lname, gender, birth_date)\n",
        "    VALUES (NULL, \"Frank\", \"Schiller\", \"m\", \"1955-08-17\");\"\"\"\n",
        "cursor.execute(sql_command)"
      ],
      "metadata": {
        "id": "OKOr_55Dosxr"
      },
      "execution_count": null,
      "outputs": []
    },
    {
      "cell_type": "code",
      "source": [
        "# never forget :if you want the changes to be saved:\n",
        "connection.commit()\n",
        "\n",
        "connection.close()"
      ],
      "metadata": {
        "id": "OAKZQmmFgM21"
      },
      "execution_count": null,
      "outputs": []
    },
    {
      "cell_type": "markdown",
      "source": [
        "In most cases, you won't directly insert data into a SQL table. Instead, you'll typically have a lot of data stored in a Python data type, such as a dictionary or a list, which will serve as the input for the insert statement.\n",
        "\n",
        "The following example assumes you already have an existing database called company.db and a table named employee. We'll use a list containing data of persons for the INSERT statement.\n",
        "\n",
        "\n",
        "\n",
        "\n",
        "\n",
        "\n"
      ],
      "metadata": {
        "id": "GmlQxOsjgcqS"
      }
    },
    {
      "cell_type": "code",
      "source": [
        "import sqlite3\n",
        "connection = sqlite3.connect(\"company.db\")\n",
        "\n",
        "cursor = connection.cursor()\n",
        "\n",
        "staff_data = [ (\"William\", \"Shakespeare\", \"m\", \"1961-10-25\"),\n",
        "               (\"Frank\", \"Schiller\", \"m\", \"1955-08-17\"),\n",
        "               (\"Jane\", \"Wall\", \"f\", \"1989-03-14\") ]\n",
        "\n",
        "for p in staff_data:\n",
        "    format_str = \"\"\"INSERT INTO employee (staff_number, fname, lname, gender, birth_date)\n",
        "    VALUES (NULL, \"{first}\", \"{last}\", \"{gender}\", \"{birthdate}\");\"\"\"\n",
        "\n",
        "    sql_command = format_str.format(first=p[0], last=p[1], gender=p[2], birthdate = p[3])\n",
        "    cursor.execute(sql_command)"
      ],
      "metadata": {
        "id": "mHE8BIiHhJ8l"
      },
      "execution_count": 15,
      "outputs": []
    },
    {
      "cell_type": "code",
      "source": [
        "#The time has come now to finally query our employee table.\n",
        "\n",
        "import sqlite3\n",
        "connection = sqlite3.connect(\"company.db\")\n",
        "\n",
        "cursor = connection.cursor()\n",
        "\n",
        "cursor.execute(\"SELECT * FROM employee\")\n",
        "print(\"fetch all:\")\n",
        "result = cursor.fetchall()\n",
        "for r in result:\n",
        "    print(r)\n",
        "cursor.execute(\"SELECT * FROM employee\")\n",
        "print(\"\\nfetch one:\")\n",
        "res = cursor.fetchone()\n",
        "print(res)"
      ],
      "metadata": {
        "colab": {
          "base_uri": "https://localhost:8080/"
        },
        "id": "gnT_s_rxhhOV",
        "outputId": "c8b656ac-9c8c-4844-d456-2510356794bd"
      },
      "execution_count": 20,
      "outputs": [
        {
          "output_type": "stream",
          "name": "stdout",
          "text": [
            "fetch all:\n",
            "(1, 'William', 'Shakespeare', 'm', None, '1961-10-25')\n",
            "(2, 'Frank', 'Schiller', 'm', None, '1955-08-17')\n",
            "\n",
            "fetch one:\n",
            "(1, 'William', 'Shakespeare', 'm', None, '1961-10-25')\n"
          ]
        }
      ]
    }
  ]
}